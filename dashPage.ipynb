{
 "cells": [
  {
   "cell_type": "code",
   "execution_count": null,
   "id": "86d63ad7",
   "metadata": {},
   "outputs": [
    {
     "name": "stdout",
     "output_type": "stream",
     "text": [
      "Dash is running on http://127.0.0.1:8050/\n",
      "\n",
      "Dash is running on http://127.0.0.1:8050/\n",
      "\n",
      " * Serving Flask app \"__main__\" (lazy loading)\n",
      " * Environment: production\n",
      "\u001b[31m   WARNING: This is a development server. Do not use it in a production deployment.\u001b[0m\n",
      "\u001b[2m   Use a production WSGI server instead.\u001b[0m\n",
      " * Debug mode: off\n"
     ]
    },
    {
     "name": "stderr",
     "output_type": "stream",
     "text": [
      " * Running on http://127.0.0.1:8050/ (Press CTRL+C to quit)\n",
      "127.0.0.1 - - [09/Oct/2022 18:07:28] \"GET / HTTP/1.1\" 200 -\n",
      "127.0.0.1 - - [09/Oct/2022 18:07:28] \"GET /_dash-layout HTTP/1.1\" 200 -\n",
      "127.0.0.1 - - [09/Oct/2022 18:07:28] \"GET /_dash-dependencies HTTP/1.1\" 200 -\n",
      "127.0.0.1 - - [09/Oct/2022 18:07:29] \"GET /_dash-component-suites/dash/dcc/async-graph.js HTTP/1.1\" 200 -\n",
      "127.0.0.1 - - [09/Oct/2022 18:07:29] \"GET /_dash-component-suites/dash/dcc/async-plotlyjs.js HTTP/1.1\" 200 -\n"
     ]
    }
   ],
   "source": [
    "import dash\n",
    "import dash_html_components as html\n",
    "import dash_core_components as dcc\n",
    "\n",
    "import plotly.graph_objs as go\n",
    "import pandas as pd\n",
    "from plotly.subplots import make_subplots\n",
    "import plotly.offline as pyo\n",
    "\n",
    "# read a .csv file into a pandas DataFrame:\n",
    "df1 = pd.read_csv('re.csv',index_col=0)\n",
    "\n",
    "app = dash.Dash()\n",
    "\n",
    "# create traces\n",
    "trace1 = [go.Scatter(\n",
    "    x = df1.columns,\n",
    "    y = df1.loc[name],\n",
    "    mode = 'markers+lines',\n",
    "    name = name) for name in df1.index]\n",
    "\n",
    "layout1 = go.Layout(title = 'Change of popularity of vr-science on Twitter')\n",
    "\n",
    "fig1 = go.Figure(data=trace1, layout=layout1)\n",
    "\n",
    "df2 = pd.read_csv('revr.csv',index_col=0)\n",
    "\n",
    "trace2 = [go.Scatter(\n",
    "    x = df2.columns,\n",
    "    y = df2.loc[name],\n",
    "    mode = 'markers+lines',\n",
    "    marker=dict(\n",
    "            color='#404040',\n",
    "    ),\n",
    "    name = name) for name in df2.index]\n",
    "\n",
    "layout2 = go.Layout(title = 'Change of popularity of vr on Twitter')\n",
    "\n",
    "fig2 = go.Figure(data=trace2, layout=layout2)\n",
    "\n",
    "df3 = pd.read_csv('otrt.csv')\n",
    "\n",
    "trace3 = go.Bar(x=df3['SUB'],y=df3['OT'],name='OT',marker={'color':'#FF8000'})\n",
    "trace4 = go.Bar(x=df3['SUB'],y=df3['RT'],name='RT',marker={'color':'#0066CC'})\n",
    "\n",
    "data1 = [trace3,trace4]\n",
    "layout3 = go.Layout(title='Number of vr-science tweets in six years',barmode='stack')\n",
    "\n",
    "fig3 = go.Figure(data=data1,layout=layout3)\n",
    "\n",
    "\n",
    "app.layout = html.Div([dcc.Graph(\n",
    "                            id = 'linechart1',\n",
    "                            figure = fig1\n",
    "                        ),\n",
    "                       dcc.Graph(\n",
    "                            id = 'linechart2',\n",
    "                            figure = fig2   \n",
    "                       ),\n",
    "                       dcc.Graph(\n",
    "                            id = 'linechart3',\n",
    "                           figure = fig3\n",
    "                       ),\n",
    "                      ],style={'width':'100%'})\n",
    "\n",
    "\n",
    "if __name__ == '__main__':\n",
    "    app.run_server()\n"
   ]
  },
  {
   "cell_type": "code",
   "execution_count": null,
   "id": "f32b1ee8",
   "metadata": {},
   "outputs": [],
   "source": []
  }
 ],
 "metadata": {
  "kernelspec": {
   "display_name": "Python 3 (ipykernel)",
   "language": "python",
   "name": "python3"
  },
  "language_info": {
   "codemirror_mode": {
    "name": "ipython",
    "version": 3
   },
   "file_extension": ".py",
   "mimetype": "text/x-python",
   "name": "python",
   "nbconvert_exporter": "python",
   "pygments_lexer": "ipython3",
   "version": "3.9.7"
  }
 },
 "nbformat": 4,
 "nbformat_minor": 5
}

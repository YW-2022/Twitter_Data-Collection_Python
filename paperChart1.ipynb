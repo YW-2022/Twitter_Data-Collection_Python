{
 "cells": [
  {
   "cell_type": "code",
   "execution_count": 3,
   "id": "c3dea295",
   "metadata": {},
   "outputs": [
    {
     "data": {
      "text/plain": [
       "'Change of popularity of vr-science on Twitter.html'"
      ]
     },
     "execution_count": 3,
     "metadata": {},
     "output_type": "execute_result"
    }
   ],
   "source": [
    "import plotly.graph_objects as go\n",
    "from plotly.subplots import make_subplots\n",
    "import plotly.offline as pyo\n",
    "import pandas as pd\n",
    "\n",
    "\n",
    "# read a .csv file into a pandas DataFrame:\n",
    "df = pd.read_csv('re.csv',index_col=0)\n",
    "\n",
    "# create traces\n",
    "traces = [go.Scatter(\n",
    "    x = df.columns,\n",
    "    y = df.loc[name],\n",
    "    mode = 'markers+lines',\n",
    "    name = name) for name in df.index]\n",
    "\n",
    "\n",
    "layout = go.Layout(title = 'Change of popularity of vr-science on Twitter')\n",
    "\n",
    "fig = go.Figure(data=traces, layout=layout)\n",
    "\n",
    "pyo.plot(fig, filename='Change of popularity of vr-science on Twitter.html')\n"
   ]
  },
  {
   "cell_type": "code",
   "execution_count": 4,
   "id": "ab7d1235",
   "metadata": {},
   "outputs": [
    {
     "data": {
      "text/plain": [
       "'Change of popularity of vr on Twitter.html'"
      ]
     },
     "execution_count": 4,
     "metadata": {},
     "output_type": "execute_result"
    }
   ],
   "source": [
    "import plotly.graph_objects as go\n",
    "from plotly.subplots import make_subplots\n",
    "import plotly.offline as pyo\n",
    "import pandas as pd\n",
    "\n",
    "\n",
    "# read a .csv file into a pandas DataFrame:\n",
    "df = pd.read_csv('revr.csv',index_col=0)\n",
    "\n",
    "# create traces\n",
    "traces = [go.Scatter(\n",
    "    x = df.columns,\n",
    "    y = df.loc[name],\n",
    "    mode = 'markers+lines',\n",
    "    marker=dict(\n",
    "            color='#FFFF00',\n",
    "    ),\n",
    "    name = name) for name in df.index]\n",
    "\n",
    "\n",
    "layout = go.Layout(title = 'Change of popularity of vr on Twitter')\n",
    "\n",
    "fig = go.Figure(data=traces, layout=layout)\n",
    "\n",
    "pyo.plot(fig, filename='Change of popularity of vr on Twitter.html')\n"
   ]
  }
 ],
 "metadata": {
  "kernelspec": {
   "display_name": "Python 3 (ipykernel)",
   "language": "python",
   "name": "python3"
  },
  "language_info": {
   "codemirror_mode": {
    "name": "ipython",
    "version": 3
   },
   "file_extension": ".py",
   "mimetype": "text/x-python",
   "name": "python",
   "nbconvert_exporter": "python",
   "pygments_lexer": "ipython3",
   "version": "3.9.7"
  }
 },
 "nbformat": 4,
 "nbformat_minor": 5
}
